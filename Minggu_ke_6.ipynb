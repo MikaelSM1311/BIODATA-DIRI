{
  "cells": [
    {
      "cell_type": "markdown",
      "metadata": {
        "id": "view-in-github",
        "colab_type": "text"
      },
      "source": [
        "<a href=\"https://colab.research.google.com/github/MikaelSM1311/BIODATA-DIRI/blob/main/Minggu_ke_6.ipynb\" target=\"_parent\"><img src=\"https://colab.research.google.com/assets/colab-badge.svg\" alt=\"Open In Colab\"/></a>"
      ]
    },
    {
      "cell_type": "code",
      "execution_count": 2,
      "metadata": {
        "colab": {
          "base_uri": "https://localhost:8080/"
        },
        "id": "rYygXsv_FQxz",
        "outputId": "72a5a44f-507c-4078-c40f-64d83e797e86"
      },
      "outputs": [
        {
          "output_type": "stream",
          "name": "stdout",
          "text": [
            "Collecting pyrsgis\n",
            "  Downloading pyrsgis-0.4.1-py3-none-any.whl.metadata (14 kB)\n",
            "Downloading pyrsgis-0.4.1-py3-none-any.whl (25 kB)\n",
            "Installing collected packages: pyrsgis\n",
            "Successfully installed pyrsgis-0.4.1\n"
          ]
        }
      ],
      "source": [
        "!pip install pyrsgis"
      ]
    },
    {
      "cell_type": "code",
      "execution_count": 3,
      "metadata": {
        "id": "bc3GhaBYIW7g"
      },
      "outputs": [],
      "source": [
        "import os\n",
        "import numpy as np\n",
        "from tensorflow import keras\n",
        "from pyrsgis import raster\n",
        "from pyrsgis.convert import changeDimension\n",
        "from sklearn.model_selection import train_test_split\n",
        "from sklearn.metrics import confusion_matrix, precision_score, recall_score"
      ]
    },
    {
      "cell_type": "code",
      "execution_count": 4,
      "metadata": {
        "colab": {
          "base_uri": "https://localhost:8080/"
        },
        "id": "p1z2kbKyKP3-",
        "outputId": "b01270c4-b210-459f-f16c-6b97dd70ab01"
      },
      "outputs": [
        {
          "output_type": "stream",
          "name": "stdout",
          "text": [
            "Mounted at /content/drive\n"
          ]
        }
      ],
      "source": [
        "from google.colab import drive\n",
        "drive.mount('/content/drive')"
      ]
    },
    {
      "cell_type": "code",
      "execution_count": 5,
      "metadata": {
        "id": "9tRblZRjLFR0"
      },
      "outputs": [],
      "source": [
        "# Ubah direktori\n",
        "os.chdir('/content/drive/MyDrive/Foto M6')"
      ]
    },
    {
      "cell_type": "code",
      "execution_count": 6,
      "metadata": {
        "id": "HZ55jd6XMuGE"
      },
      "outputs": [],
      "source": [
        "# Tetapkan nama file\n",
        "mxBangalore = 'l5_Bangalore2011_raw.tif'\n",
        "buildtupBangalore = 'l5_Bangalore2011_builtup.tif'\n",
        "mxHyderabad = 'l5_Hyderabad2011_raw.tif'"
      ]
    },
    {
      "cell_type": "code",
      "execution_count": 7,
      "metadata": {
        "id": "yiOmJmpSNwJR"
      },
      "outputs": [],
      "source": [
        "# Mengakses variabel di sini dengan nama yang diperbarui\n",
        "ds1, featuresBangalore = raster.read(mxBangalore, bands='all')\n",
        "ds2, labelBangalore = raster.read(buildtupBangalore, bands=1)\n",
        "ds3, featuresHyderabad = raster.read(mxHyderabad, bands='all')"
      ]
    },
    {
      "cell_type": "code",
      "execution_count": 8,
      "metadata": {
        "colab": {
          "base_uri": "https://localhost:8080/"
        },
        "id": "BylEGOH7OWja",
        "outputId": "1158f651-2511-403d-e47b-f80d973ebf04"
      },
      "outputs": [
        {
          "output_type": "stream",
          "name": "stdout",
          "text": [
            "Bangalore Multispectal image shape: (6, 2054, 2044)\n",
            "Bangalore Binary built-up image shape: (2054, 2044)\n",
            "Hyderabad Multispectal image shape: (6, 1318, 1056)\n"
          ]
        }
      ],
      "source": [
        "# Cetak ukuran array\n",
        "print('Bangalore Multispectal image shape:', featuresBangalore.shape)\n",
        "print('Bangalore Binary built-up image shape:', labelBangalore.shape)\n",
        "print('Hyderabad Multispectal image shape:', featuresHyderabad.shape)"
      ]
    },
    {
      "cell_type": "code",
      "execution_count": 9,
      "metadata": {
        "colab": {
          "base_uri": "https://localhost:8080/"
        },
        "id": "ZFmorj0QOuSI",
        "outputId": "532da2fd-7787-4f37-defd-5f23d082bfcd"
      },
      "outputs": [
        {
          "output_type": "stream",
          "name": "stdout",
          "text": [
            "The \"changeDimension()\" function has moved to \"array_to_table()\" and will be deprecated in future versions. Please check the pyrsgis documentation at https://pyrsgis.readthedocs.io/en/master/ for more details.\n",
            "The \"changeDimension()\" function has moved to \"array_to_table()\" and will be deprecated in future versions. Please check the pyrsgis documentation at https://pyrsgis.readthedocs.io/en/master/ for more details.\n",
            "The \"changeDimension()\" function has moved to \"array_to_table()\" and will be deprecated in future versions. Please check the pyrsgis documentation at https://pyrsgis.readthedocs.io/en/master/ for more details.\n",
            "Bangalore Multispectal image shape: (4198376, 6)\n",
            "Bangalore Binary built-up image shape: (4198376,)\n",
            "Hyderabad Multispectal image shape: (1391808, 6)\n"
          ]
        }
      ],
      "source": [
        "# Bersihkan data berlabel untuk mengganti nilai NoData dengan nol\n",
        "labelBangalore = (labelBangalore == 1).astype(int)\n",
        "\n",
        "# Ubah bentuk array menjadi array berdimensi tunggal\n",
        "featuresBangalore = changeDimension(featuresBangalore)\n",
        "labelBangalore = changeDimension(labelBangalore)\n",
        "featuresHyderabad = changeDimension(featuresHyderabad)\n",
        "nBands = featuresBangalore.shape[1]\n",
        "\n",
        "print('Bangalore Multispectal image shape:', featuresBangalore.shape)\n",
        "print('Bangalore Binary built-up image shape:', labelBangalore.shape)\n",
        "print('Hyderabad Multispectal image shape:', featuresHyderabad.shape)"
      ]
    },
    {
      "source": [
        "# Pengujian tumpahan dan pelatihan databest\n",
        "xTrain, xTest, yTrain, yTest = train_test_split (featuresBangalore, labelBangalore, test_size=0.4, random_state=42)\n",
        "\n",
        "print (\"xTrain shape:\", xTrain.shape)\n",
        "print (\"yTrain shape:\", yTrain.shape)\n",
        "\n",
        "# Normalisasikan data\n",
        "xTrain = xTrain / 255.0\n",
        "xTest = xTest / 255.0\n",
        "featuresHyderabad = featuresHyderabad / 255.0\n",
        "\n",
        "# Membentuk ulang data\n",
        "xtrain = xTrain.reshape((xTrain.shape[0], 1, xTrain.shape[1]))\n",
        "xtest = xTest.reshape((xTest.shape[0], 1, xTest.shape[1]))\n",
        "\n",
        "featuresHyderabad = featuresHyderabad.reshape((featuresHyderabad.shape[0], 1, xTrain.shape[1]))\n",
        "print(xtrain.shape, xtest.shape, featuresHyderabad.shape)"
      ],
      "cell_type": "code",
      "metadata": {
        "colab": {
          "base_uri": "https://localhost:8080/"
        },
        "id": "Mevqc1wS3Ybx",
        "outputId": "b0b4cd35-2214-400d-e145-954348258354"
      },
      "execution_count": 10,
      "outputs": [
        {
          "output_type": "stream",
          "name": "stdout",
          "text": [
            "xTrain shape: (2519025, 6)\n",
            "yTrain shape: (2519025,)\n",
            "(2519025, 1, 6) (1679351, 1, 6) (1391808, 1, 6)\n"
          ]
        }
      ]
    },
    {
      "source": [
        "# Tentukan parameter modelnya\n",
        "model = keras.Sequential ([\n",
        "    keras.layers.Flatten(input_shape=(nBands,)), #modified line - removed extra dimension from input shape\n",
        "    keras.layers.Dense(10, activation = 'relu'),\n",
        "    keras.layers.Dense(5, activation = 'relu'),\n",
        "    keras.layers.Dense(2, activation = 'softmax')])\n",
        "\n",
        "# Tentukan metrik dan parameter akurasi\n",
        "model.compile(optimizer = 'adam', loss = 'sparse_categorical_crossentropy', metrics = ['accuracy'])\n",
        "\n",
        "model.fit(xTrain, yTrain, epochs=2)\n",
        "\n",
        "# Prediksi untuk data uji\n",
        "yTestPredicted = model.predict(xTest)\n",
        "yTestPredicted = yTestPredicted[:,1]\n",
        "\n",
        "# Hitung dan tampilkan metrik kesalahan\n",
        "yTestPredicted = (yTestPredicted>0.5).astype(int)\n",
        "cMatrix = confusion_matrix(yTest, yTestPredicted)\n",
        "pScore = precision_score(yTest, yTestPredicted)\n",
        "rScore = recall_score(yTest, yTestPredicted)\n",
        "\n",
        "print(\"Confusion Matrix: for 14 nodes\\n\", cMatrix)\n",
        "print(\"\\nP-Score: %.3f, R-Score: %.3f\" % (pScore, rScore))"
      ],
      "cell_type": "code",
      "metadata": {
        "colab": {
          "base_uri": "https://localhost:8080/"
        },
        "id": "PtBFqaa14QH0",
        "outputId": "ead8c308-a992-4b5f-c784-1e5cf9556f77"
      },
      "execution_count": 11,
      "outputs": [
        {
          "output_type": "stream",
          "name": "stdout",
          "text": [
            "Epoch 1/2\n",
            "\u001b[1m78720/78720\u001b[0m \u001b[32m━━━━━━━━━━━━━━━━━━━━\u001b[0m\u001b[37m\u001b[0m \u001b[1m172s\u001b[0m 2ms/step - accuracy: 0.9488 - loss: 0.1392\n",
            "Epoch 2/2\n",
            "\u001b[1m78720/78720\u001b[0m \u001b[32m━━━━━━━━━━━━━━━━━━━━\u001b[0m\u001b[37m\u001b[0m \u001b[1m188s\u001b[0m 2ms/step - accuracy: 0.9592 - loss: 0.1083\n",
            "\u001b[1m52480/52480\u001b[0m \u001b[32m━━━━━━━━━━━━━━━━━━━━\u001b[0m\u001b[37m\u001b[0m \u001b[1m62s\u001b[0m 1ms/step\n",
            "Confusion Matrix: for 14 nodes\n",
            " [[1455280   25596]\n",
            " [  42066  156409]]\n",
            "\n",
            "P-Score: 0.859, R-Score: 0.788\n"
          ]
        }
      ]
    },
    {
      "source": [
        "# Melakukan prediksi pada data Hyderabad\n",
        "predicted = model.predict(featuresHyderabad)\n",
        "predicted = predicted[:,1]\n",
        "\n",
        "# Prediksi data baru dan ekspor hasil sebagai raster probabilitas\n",
        "prediction = np.reshape(predicted, (ds3.RasterYSize, ds3.RasterXSize)) # Changed dst3 to ds3\n",
        "outfile = 'Hyderabad_2011_BuiltupNN_predicted.tif'\n",
        "raster.export(prediction, ds3, filename=outfile, dtype='float') # Changed dst3 to ds3"
      ],
      "cell_type": "code",
      "metadata": {
        "colab": {
          "base_uri": "https://localhost:8080/"
        },
        "id": "18usQGbNgJD2",
        "outputId": "a40f3d44-2f8a-47cd-e4b5-124e7e60c5fe"
      },
      "execution_count": 18,
      "outputs": [
        {
          "output_type": "stream",
          "name": "stdout",
          "text": [
            "\u001b[1m43494/43494\u001b[0m \u001b[32m━━━━━━━━━━━━━━━━━━━━\u001b[0m\u001b[37m\u001b[0m \u001b[1m52s\u001b[0m 1ms/step\n"
          ]
        }
      ]
    },
    {
      "cell_type": "code",
      "execution_count": 24,
      "metadata": {
        "id": "088jk9DCMAqS"
      },
      "outputs": [],
      "source": [
        "# Menyiapkan data untuk SVM\n",
        "xTrain2D = np.zeros((len(xTrain), 6))\n",
        "xTest2D = np.zeros((len(xTest), 6))\n",
        "featuresHyderabad2D = np.zeros((len(featuresHyderabad), 6))\n",
        "\n",
        "for i in range(6):\n",
        "    xTrain2D[:, i] = xTrain[:, i]\n",
        "    xTest2D[:, i] = xTest[:, i]\n",
        "    featuresHyderabad2D[:, i] = featuresHyderabad[:, i]\n",
        "\n",
        "random_indices = np.random.choice(len(xTrain2D), size=1000, replace=False)\n",
        "xTrain2D_random = xTrain2D[random_indices, :]\n",
        "yTrain_random = yTrain[random_indices]"
      ]
    },
    {
      "cell_type": "code",
      "execution_count": 25,
      "metadata": {
        "id": "i1lud6LsMBO2"
      },
      "outputs": [],
      "source": [
        "# Memproses SVM\n",
        "from sklearn import svm\n",
        "clf = svm.SVC()\n",
        "clf.fit(xTrain2D_random, yTrain_random)\n",
        "\n",
        "predicted = clf.predict(featuresHyderabad2D)"
      ]
    },
    {
      "cell_type": "code",
      "execution_count": 26,
      "metadata": {
        "id": "Cf4xr_9sMCmm"
      },
      "outputs": [],
      "source": [
        "# Prediksi hasil dan ekspor raster probablilitas\n",
        "prediction = np.reshape(predicted, (ds3.RasterYSize, ds3.RasterXSize))\n",
        "outfile = 'Hyderabad_2011_BuiltupSVM_predicted.tif'\n",
        "raster.export(prediction, ds3, filename=outfile, dtype='float')\n",
        "\n",
        "# Prediksi untuk data uji\n",
        "yTestPredicted_SVM = clf.predict(xTest2D)"
      ]
    },
    {
      "cell_type": "code",
      "execution_count": 27,
      "metadata": {
        "colab": {
          "base_uri": "https://localhost:8080/"
        },
        "id": "Q1Xqz5N3MDu9",
        "outputId": "3c084c56-c6c2-458f-b100-262fc80b03e6"
      },
      "outputs": [
        {
          "output_type": "stream",
          "name": "stdout",
          "text": [
            "Confusion matrix: for SVM/n [[1455280   25596]\n",
            " [  42066  156409]]\n",
            "\n",
            "P-Score: 0.899, R-Score: 0.657\n"
          ]
        }
      ],
      "source": [
        "# Perhitungan matriks error dari hasil ekstraksi\n",
        "CMatrix = confusion_matrix(yTest, yTestPredicted_SVM)\n",
        "pScore = precision_score(yTest, yTestPredicted_SVM)\n",
        "rScore = recall_score(yTest, yTestPredicted_SVM)\n",
        "\n",
        "print('Confusion matrix: for SVM/n', cMatrix)\n",
        "print('\\nP-Score: %.3f, R-Score: %.3f' % (pScore, rScore))"
      ]
    }
  ],
  "metadata": {
    "colab": {
      "provenance": [],
      "authorship_tag": "ABX9TyN0y2SSvla9sdyk1qTNcFPK",
      "include_colab_link": true
    },
    "kernelspec": {
      "display_name": "Python 3",
      "name": "python3"
    },
    "language_info": {
      "name": "python"
    }
  },
  "nbformat": 4,
  "nbformat_minor": 0
}